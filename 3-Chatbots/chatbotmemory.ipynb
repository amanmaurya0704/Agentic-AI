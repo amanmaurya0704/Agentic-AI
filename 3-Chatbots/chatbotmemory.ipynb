{
 "cells": [
  {
   "cell_type": "code",
   "execution_count": 121,
   "id": "d36c1a64",
   "metadata": {},
   "outputs": [
    {
     "data": {
      "text/plain": [
       "True"
      ]
     },
     "execution_count": 121,
     "metadata": {},
     "output_type": "execute_result"
    }
   ],
   "source": [
    "import os\n",
    "from dotenv import load_dotenv\n",
    "\n",
    "load_dotenv()"
   ]
  },
  {
   "cell_type": "code",
   "execution_count": 122,
   "id": "c3f60363",
   "metadata": {},
   "outputs": [],
   "source": [
    "os.environ[\"GROQ_API_KEY\"] = os.getenv(\"GROQ_API_KEY\")"
   ]
  },
  {
   "cell_type": "code",
   "execution_count": 123,
   "id": "b355db5f",
   "metadata": {},
   "outputs": [
    {
     "data": {
      "text/plain": [
       "ChatGroq(client=<groq.resources.chat.completions.Completions object at 0x00000120C8009160>, async_client=<groq.resources.chat.completions.AsyncCompletions object at 0x00000120C800B350>, model_name='gemma2-9b-it', model_kwargs={}, groq_api_key=SecretStr('**********'))"
      ]
     },
     "execution_count": 123,
     "metadata": {},
     "output_type": "execute_result"
    }
   ],
   "source": [
    "from langchain_groq import ChatGroq\n",
    "model = ChatGroq(model = \"gemma2-9b-it\")\n",
    "model"
   ]
  },
  {
   "cell_type": "code",
   "execution_count": 124,
   "id": "d07269b5",
   "metadata": {},
   "outputs": [
    {
     "data": {
      "text/plain": [
       "AIMessage(content='Hello! 👋 \\n\\nHow can I help you today? 😊\\n', additional_kwargs={}, response_metadata={'token_usage': {'completion_tokens': 16, 'prompt_tokens': 11, 'total_tokens': 27, 'completion_time': 0.029090909, 'prompt_time': 0.001907055, 'queue_time': 0.250479704, 'total_time': 0.030997964}, 'model_name': 'gemma2-9b-it', 'system_fingerprint': 'fp_10c08bf97d', 'finish_reason': 'stop', 'logprobs': None}, id='run-f4675097-4be5-4c21-a641-ed29e229a571-0', usage_metadata={'input_tokens': 11, 'output_tokens': 16, 'total_tokens': 27})"
      ]
     },
     "execution_count": 124,
     "metadata": {},
     "output_type": "execute_result"
    }
   ],
   "source": [
    "model.invoke(\"Hello\")"
   ]
  },
  {
   "cell_type": "code",
   "execution_count": 125,
   "id": "c6c6e141",
   "metadata": {},
   "outputs": [
    {
     "data": {
      "text/plain": [
       "AIMessage(content=\"Hi Aman, it's nice to meet you! \\n\\nWhat kind of data science work do you do?  I'm always interested in learning more about how people are using AI and data analysis in different fields.\\n\", additional_kwargs={}, response_metadata={'token_usage': {'completion_tokens': 48, 'prompt_tokens': 20, 'total_tokens': 68, 'completion_time': 0.087272727, 'prompt_time': 0.001911126, 'queue_time': 0.249069915, 'total_time': 0.089183853}, 'model_name': 'gemma2-9b-it', 'system_fingerprint': 'fp_10c08bf97d', 'finish_reason': 'stop', 'logprobs': None}, id='run-bbc20b71-b0b2-4977-b243-4f7557f8c4bc-0', usage_metadata={'input_tokens': 20, 'output_tokens': 48, 'total_tokens': 68})"
      ]
     },
     "execution_count": 125,
     "metadata": {},
     "output_type": "execute_result"
    }
   ],
   "source": [
    "from langchain_core.messages import HumanMessage\n",
    "\n",
    "model.invoke([HumanMessage(content = \"Hi My name is Aman and I am a Data Scientist\")])"
   ]
  },
  {
   "cell_type": "code",
   "execution_count": 126,
   "id": "76f3a6f0",
   "metadata": {},
   "outputs": [
    {
     "data": {
      "text/plain": [
       "AIMessage(content=\"You are Aman, and you are a Data Scientist!  \\n\\nI remember that from our first conversation. 😊  \\n\\nIs there anything else I can help you with? Perhaps you have a data science problem you'd like to brainstorm about?\\n\", additional_kwargs={}, response_metadata={'token_usage': {'completion_tokens': 52, 'prompt_tokens': 100, 'total_tokens': 152, 'completion_time': 0.094545455, 'prompt_time': 0.005290769, 'queue_time': 0.249943031, 'total_time': 0.099836224}, 'model_name': 'gemma2-9b-it', 'system_fingerprint': 'fp_10c08bf97d', 'finish_reason': 'stop', 'logprobs': None}, id='run-176e079a-46bd-48f5-ae3b-3821d4e5dc98-0', usage_metadata={'input_tokens': 100, 'output_tokens': 52, 'total_tokens': 152})"
      ]
     },
     "execution_count": 126,
     "metadata": {},
     "output_type": "execute_result"
    }
   ],
   "source": [
    "from langchain_core.messages import HumanMessage\n",
    "from langchain_core.messages import AIMessage\n",
    "model.invoke(\n",
    "    [\n",
    "        HumanMessage(content = \"Hi My name is Aman and I am a Data Scientist\"),\n",
    "        AIMessage(content =\"Hi Aman,\\n\\nIt's nice to meet you!  \\n\\nBeing a Data Scientist is a fascinating field. What kind of projects are you working on these days? \\n\\nI'm always eager to learn more about how people are using data to solve problems and make insights.\\n\"),\n",
    "        HumanMessage(content = \"Hey What's my name and what do I do?\"),\n",
    "        ])"
   ]
  },
  {
   "cell_type": "code",
   "execution_count": 127,
   "id": "02681f85",
   "metadata": {},
   "outputs": [],
   "source": [
    "from langchain_community.chat_message_histories import ChatMessageHistory\n",
    "from langchain_core.chat_history import BaseChatMessageHistory\n",
    "from langchain_core.runnables.history import RunnableWithMessageHistory\n",
    "\n",
    "\n",
    "store ={}\n",
    "\n",
    "def get_session_history(session_id:str) -> BaseChatMessageHistory:\n",
    "    if session_id not in store:\n",
    "        store[session_id] = ChatMessageHistory()\n",
    "        \n",
    "    return store[session_id]\n",
    "\n"
   ]
  },
  {
   "cell_type": "code",
   "execution_count": 128,
   "id": "b35e22d6",
   "metadata": {},
   "outputs": [
    {
     "data": {
      "text/plain": [
       "RunnableWithMessageHistory(bound=RunnableBinding(bound=RunnableBinding(bound=RunnableLambda(_enter_history), kwargs={}, config={'run_name': 'load_history'}, config_factories=[])\n",
       "| RunnableBinding(bound=RunnableLambda(_call_runnable_sync), kwargs={}, config={'run_name': 'check_sync_or_async'}, config_factories=[]), kwargs={}, config={'run_name': 'RunnableWithMessageHistory'}, config_factories=[]), kwargs={}, config={}, config_factories=[], get_session_history=<function get_session_history at 0x00000120C8024CC0>, history_factory_config=[ConfigurableFieldSpec(id='session_id', annotation=<class 'str'>, name='Session ID', description='Unique identifier for a session.', default='', is_shared=True, dependencies=None)])"
      ]
     },
     "execution_count": 128,
     "metadata": {},
     "output_type": "execute_result"
    }
   ],
   "source": [
    "with_message_history = RunnableWithMessageHistory(model,get_session_history)\n",
    "with_message_history"
   ]
  },
  {
   "cell_type": "code",
   "execution_count": 129,
   "id": "320b6646",
   "metadata": {},
   "outputs": [],
   "source": [
    "config = {\"configurable\":{\"session_id\":\"Aman\"}}\n",
    "\n",
    "response = with_message_history.invoke(\n",
    "    [HumanMessage(content = \"Hi My name is Aman and I am a Data Scientist\")],\n",
    "        config=config\n",
    "    \n",
    ")"
   ]
  },
  {
   "cell_type": "code",
   "execution_count": 130,
   "id": "12216503",
   "metadata": {},
   "outputs": [
    {
     "data": {
      "text/plain": [
       "AIMessage(content=\"Hi Aman, it's nice to meet you!\\n\\nI'm glad to know you're a Data Scientist. That's a fascinating field. What kind of work do you do? \\n\\nAre you working on any interesting projects right now?  I'd love to hear more about your work if you'd like to share.\\n\", additional_kwargs={}, response_metadata={'token_usage': {'completion_tokens': 74, 'prompt_tokens': 20, 'total_tokens': 94, 'completion_time': 0.134545455, 'prompt_time': 0.001903476, 'queue_time': 0.24839588400000004, 'total_time': 0.136448931}, 'model_name': 'gemma2-9b-it', 'system_fingerprint': 'fp_10c08bf97d', 'finish_reason': 'stop', 'logprobs': None}, id='run-723099f7-3636-4d2d-be3e-c14f7d389780-0', usage_metadata={'input_tokens': 20, 'output_tokens': 74, 'total_tokens': 94})"
      ]
     },
     "execution_count": 130,
     "metadata": {},
     "output_type": "execute_result"
    }
   ],
   "source": [
    "response"
   ]
  },
  {
   "cell_type": "code",
   "execution_count": 131,
   "id": "066b8f3e",
   "metadata": {},
   "outputs": [
    {
     "data": {
      "text/plain": [
       "AIMessage(content='Your name is Aman.  You told me at the beginning of our conversation! 😊  \\n\\n\\n\\nHow can I help you today?  Do you have any questions about data science or anything else?\\n', additional_kwargs={}, response_metadata={'token_usage': {'completion_tokens': 42, 'prompt_tokens': 106, 'total_tokens': 148, 'completion_time': 0.076363636, 'prompt_time': 0.005543968, 'queue_time': 0.249082474, 'total_time': 0.081907604}, 'model_name': 'gemma2-9b-it', 'system_fingerprint': 'fp_10c08bf97d', 'finish_reason': 'stop', 'logprobs': None}, id='run-e5db80b7-0a09-4426-a0ba-6fdcdf1a3143-0', usage_metadata={'input_tokens': 106, 'output_tokens': 42, 'total_tokens': 148})"
      ]
     },
     "execution_count": 131,
     "metadata": {},
     "output_type": "execute_result"
    }
   ],
   "source": [
    "response = with_message_history.invoke(\n",
    "    [HumanMessage(content = \"What is my name\")],\n",
    "        config=config\n",
    "    )\n",
    "response"
   ]
  },
  {
   "cell_type": "code",
   "execution_count": 132,
   "id": "9ca4b33d",
   "metadata": {},
   "outputs": [
    {
     "data": {
      "text/plain": [
       "AIMessage(content='As an AI, I have no memory of past conversations and do not know your name. Can you tell me?\\n', additional_kwargs={}, response_metadata={'token_usage': {'completion_tokens': 26, 'prompt_tokens': 13, 'total_tokens': 39, 'completion_time': 0.047272727, 'prompt_time': 0.001901776, 'queue_time': 0.246054077, 'total_time': 0.049174503}, 'model_name': 'gemma2-9b-it', 'system_fingerprint': 'fp_10c08bf97d', 'finish_reason': 'stop', 'logprobs': None}, id='run-b8706293-38bd-468e-8d31-d26106d0a45c-0', usage_metadata={'input_tokens': 13, 'output_tokens': 26, 'total_tokens': 39})"
      ]
     },
     "execution_count": 132,
     "metadata": {},
     "output_type": "execute_result"
    }
   ],
   "source": [
    "config1 = {\"configurable\":{\"session_id\":\"Mohit\"}}\n",
    "response = with_message_history.invoke(\n",
    "    [HumanMessage(content = \"What is my name\")],\n",
    "        config=config1\n",
    "    )\n",
    "response"
   ]
  },
  {
   "cell_type": "code",
   "execution_count": 133,
   "id": "7befd1dc",
   "metadata": {},
   "outputs": [
    {
     "data": {
      "text/plain": [
       "InMemoryChatMessageHistory(messages=[HumanMessage(content='Hi My name is Aman and I am a Data Scientist', additional_kwargs={}, response_metadata={}), AIMessage(content=\"Hi Aman, it's nice to meet you!\\n\\nI'm glad to know you're a Data Scientist. That's a fascinating field. What kind of work do you do? \\n\\nAre you working on any interesting projects right now?  I'd love to hear more about your work if you'd like to share.\\n\", additional_kwargs={}, response_metadata={'token_usage': {'completion_tokens': 74, 'prompt_tokens': 20, 'total_tokens': 94, 'completion_time': 0.134545455, 'prompt_time': 0.001903476, 'queue_time': 0.24839588400000004, 'total_time': 0.136448931}, 'model_name': 'gemma2-9b-it', 'system_fingerprint': 'fp_10c08bf97d', 'finish_reason': 'stop', 'logprobs': None}, id='run-723099f7-3636-4d2d-be3e-c14f7d389780-0', usage_metadata={'input_tokens': 20, 'output_tokens': 74, 'total_tokens': 94}), HumanMessage(content='What is my name', additional_kwargs={}, response_metadata={}), AIMessage(content='Your name is Aman.  You told me at the beginning of our conversation! 😊  \\n\\n\\n\\nHow can I help you today?  Do you have any questions about data science or anything else?\\n', additional_kwargs={}, response_metadata={'token_usage': {'completion_tokens': 42, 'prompt_tokens': 106, 'total_tokens': 148, 'completion_time': 0.076363636, 'prompt_time': 0.005543968, 'queue_time': 0.249082474, 'total_time': 0.081907604}, 'model_name': 'gemma2-9b-it', 'system_fingerprint': 'fp_10c08bf97d', 'finish_reason': 'stop', 'logprobs': None}, id='run-e5db80b7-0a09-4426-a0ba-6fdcdf1a3143-0', usage_metadata={'input_tokens': 106, 'output_tokens': 42, 'total_tokens': 148})])"
      ]
     },
     "execution_count": 133,
     "metadata": {},
     "output_type": "execute_result"
    }
   ],
   "source": [
    "get_session_history(\"Aman\")"
   ]
  },
  {
   "cell_type": "code",
   "execution_count": 134,
   "id": "ea3decf2",
   "metadata": {},
   "outputs": [
    {
     "data": {
      "text/plain": [
       "AIMessage(content=\"That's awesome, John! \\n\\nIt's great to meet a fellow vanilla enthusiast.  What's your favorite way to enjoy vanilla? Ice cream? Cake?  A nice cup of vanilla chai?  \\n\\nYou Hustle, Loyalty, Respect your way to a delicious vanilla treat! 😉 \\n\\n\", additional_kwargs={}, response_metadata={'token_usage': {'completion_tokens': 66, 'prompt_tokens': 19, 'total_tokens': 85, 'completion_time': 0.12, 'prompt_time': 0.001944586, 'queue_time': 0.247369207, 'total_time': 0.121944586}, 'model_name': 'gemma2-9b-it', 'system_fingerprint': 'fp_10c08bf97d', 'finish_reason': 'stop', 'logprobs': None}, id='run-78d73e02-e867-4016-b462-6107aa7a8ce2-0', usage_metadata={'input_tokens': 19, 'output_tokens': 66, 'total_tokens': 85})"
      ]
     },
     "execution_count": 134,
     "metadata": {},
     "output_type": "execute_result"
    }
   ],
   "source": [
    "config2 = {\"configurable\":{\"session_id\":\"JohnC\"}}\n",
    "response = with_message_history.invoke(\n",
    "    [HumanMessage(content = \"Hi My name is John Cena and I love vanilla\")],\n",
    "        config=config2\n",
    "    \n",
    ")\n",
    "response"
   ]
  },
  {
   "cell_type": "code",
   "execution_count": 135,
   "id": "f688ae03",
   "metadata": {},
   "outputs": [
    {
     "data": {
      "text/plain": [
       "AIMessage(content='You told me your name is John Cena!  \\n\\nYou said: \"Hi My name is John Cena and I love vanilla\"  \\n\\nRemember? 😊 \\n', additional_kwargs={}, response_metadata={'token_usage': {'completion_tokens': 35, 'prompt_tokens': 96, 'total_tokens': 131, 'completion_time': 0.063636364, 'prompt_time': 0.004296521, 'queue_time': 0.24955099200000003, 'total_time': 0.067932885}, 'model_name': 'gemma2-9b-it', 'system_fingerprint': 'fp_10c08bf97d', 'finish_reason': 'stop', 'logprobs': None}, id='run-94334d13-1aeb-4b27-8b86-8f22953a725c-0', usage_metadata={'input_tokens': 96, 'output_tokens': 35, 'total_tokens': 131})"
      ]
     },
     "execution_count": 135,
     "metadata": {},
     "output_type": "execute_result"
    }
   ],
   "source": [
    "response = with_message_history.invoke(\n",
    "    [HumanMessage(content = \"What is my name\")],\n",
    "        config=config2\n",
    "    )\n",
    "response"
   ]
  },
  {
   "cell_type": "markdown",
   "id": "cfb1432d",
   "metadata": {},
   "source": [
    "Prompt Template"
   ]
  },
  {
   "cell_type": "code",
   "execution_count": 136,
   "id": "7f3607b6",
   "metadata": {},
   "outputs": [],
   "source": [
    "from langchain_core.prompts import ChatPromptTemplate,MessagesPlaceholder\n",
    "\n",
    "prompt = ChatPromptTemplate(\n",
    "    [\n",
    "        (\"system\",\"You are a helpful assistant. Answer all the questions to best of your ability in this {language} language\"),\n",
    "        MessagesPlaceholder(variable_name=\"messages\"),\n",
    "    ]\n",
    ")\n",
    "chain = prompt | model"
   ]
  },
  {
   "cell_type": "code",
   "execution_count": 137,
   "id": "26c531ee",
   "metadata": {},
   "outputs": [
    {
     "data": {
      "text/plain": [
       "AIMessage(content=\"Hello Aman Maurya! It's nice to meet you. \\n\\nI'm here to help. What can I do for you today? 😊  \\n\\n\", additional_kwargs={}, response_metadata={'token_usage': {'completion_tokens': 36, 'prompt_tokens': 35, 'total_tokens': 71, 'completion_time': 0.065454545, 'prompt_time': 0.002347705, 'queue_time': 0.249940075, 'total_time': 0.06780225}, 'model_name': 'gemma2-9b-it', 'system_fingerprint': 'fp_10c08bf97d', 'finish_reason': 'stop', 'logprobs': None}, id='run-c3285080-e8ba-46a5-8f82-9831750524d5-0', usage_metadata={'input_tokens': 35, 'output_tokens': 36, 'total_tokens': 71})"
      ]
     },
     "execution_count": 137,
     "metadata": {},
     "output_type": "execute_result"
    }
   ],
   "source": [
    "chain.invoke({'messages':[HumanMessage(content = \"Hi my name is Aman Maurya\")],'language':\"English\"})"
   ]
  },
  {
   "cell_type": "code",
   "execution_count": 138,
   "id": "9a5eef23",
   "metadata": {},
   "outputs": [],
   "source": [
    "with_message_history = RunnableWithMessageHistory(chain,get_session_history,input_messages_key=\"messages\",history_messages_key=\"messages\")\n",
    "config = {\"configurable\":{\"session_id\":\"chat4\"}}"
   ]
  },
  {
   "cell_type": "code",
   "execution_count": 139,
   "id": "0c89cf8d",
   "metadata": {},
   "outputs": [
    {
     "data": {
      "text/plain": [
       "AIMessage(content=\"I'm ready! Ask me anything. I'll do my best to provide helpful and informative answers in English. 😊  \\n\", additional_kwargs={}, response_metadata={'token_usage': {'completion_tokens': 29, 'prompt_tokens': 28, 'total_tokens': 57, 'completion_time': 0.052727273, 'prompt_time': 0.002141885, 'queue_time': 0.250009795, 'total_time': 0.054869158}, 'model_name': 'gemma2-9b-it', 'system_fingerprint': 'fp_10c08bf97d', 'finish_reason': 'stop', 'logprobs': None}, id='run-16387393-31a3-44db-a837-6a91b9e5eb8c-0', usage_metadata={'input_tokens': 28, 'output_tokens': 29, 'total_tokens': 57})"
      ]
     },
     "execution_count": 139,
     "metadata": {},
     "output_type": "execute_result"
    }
   ],
   "source": [
    "response = with_message_history.invoke(\n",
    "    {\"messages\":[HumanMessage(content = \"Hi My name is Aman Maurya\")], \"language\": \"English\"},\n",
    "        config=config\n",
    "    )\n",
    "response"
   ]
  },
  {
   "cell_type": "code",
   "execution_count": 140,
   "id": "73ad12b4",
   "metadata": {},
   "outputs": [
    {
     "data": {
      "text/plain": [
       "AIMessage(content=\"Namaste Aman Maurya! \\n\\nआप कैसे हैं?  (How are you?)\\n\\nमैं आपकी मदद करने के लिए तैयार हूँ।  क्या आप कोई प्रश्न पूछना चाहते हैं? (I'm ready to help you. Do you have any questions?) \\n\\n\", additional_kwargs={}, response_metadata={'token_usage': {'completion_tokens': 62, 'prompt_tokens': 35, 'total_tokens': 97, 'completion_time': 0.112727273, 'prompt_time': 0.002394815, 'queue_time': 0.25020401400000003, 'total_time': 0.115122088}, 'model_name': 'gemma2-9b-it', 'system_fingerprint': 'fp_10c08bf97d', 'finish_reason': 'stop', 'logprobs': None}, id='run-d51fbab5-07d9-451b-b8c5-25ab8bd319f4-0', usage_metadata={'input_tokens': 35, 'output_tokens': 62, 'total_tokens': 97})"
      ]
     },
     "execution_count": 140,
     "metadata": {},
     "output_type": "execute_result"
    }
   ],
   "source": [
    "response = chain.invoke({'messages':[HumanMessage(content = \"Hi my name is Aman Maurya\")],\"language\":\"Hindi\"})\n",
    "response"
   ]
  },
  {
   "cell_type": "code",
   "execution_count": 141,
   "id": "8c7274c6",
   "metadata": {},
   "outputs": [
    {
     "data": {
      "text/plain": [
       "'\\n'"
      ]
     },
     "execution_count": 141,
     "metadata": {},
     "output_type": "execute_result"
    }
   ],
   "source": [
    "response = with_message_history.invoke(\n",
    "    {\"messages\": [HumanMessage(content=\"whats my name?\")], \"language\": \"Hindi\"},\n",
    "    config=config,\n",
    ")\n",
    "response.content"
   ]
  },
  {
   "cell_type": "markdown",
   "id": "9ae604a5",
   "metadata": {},
   "source": [
    "## Trimming Message"
   ]
  },
  {
   "cell_type": "code",
   "execution_count": 142,
   "id": "8c6f78d5",
   "metadata": {},
   "outputs": [
    {
     "data": {
      "text/plain": [
       "[SystemMessage(content=\"you're a good assistant\", additional_kwargs={}, response_metadata={}),\n",
       " HumanMessage(content=\"hi! I'm bob\", additional_kwargs={}, response_metadata={}),\n",
       " AIMessage(content='hi!', additional_kwargs={}, response_metadata={}),\n",
       " HumanMessage(content='I like vanilla ice cream', additional_kwargs={}, response_metadata={}),\n",
       " AIMessage(content='nice', additional_kwargs={}, response_metadata={}),\n",
       " HumanMessage(content='whats 2 + 2', additional_kwargs={}, response_metadata={}),\n",
       " AIMessage(content='4', additional_kwargs={}, response_metadata={}),\n",
       " HumanMessage(content='thanks', additional_kwargs={}, response_metadata={}),\n",
       " AIMessage(content='no problem!', additional_kwargs={}, response_metadata={}),\n",
       " HumanMessage(content='having fun?', additional_kwargs={}, response_metadata={}),\n",
       " AIMessage(content='yes!', additional_kwargs={}, response_metadata={})]"
      ]
     },
     "execution_count": 142,
     "metadata": {},
     "output_type": "execute_result"
    }
   ],
   "source": [
    "from langchain_core.messages import SystemMessage,trim_messages\n",
    "\n",
    "trimmer = trim_messages(\n",
    "    max_tokens = 60, \n",
    "    strategy = 'last', \n",
    "    token_counter = model,\n",
    "    include_system = True,\n",
    "    allow_partial = False,\n",
    "    start_on = \"human\"\n",
    "    )\n",
    "messages = [\n",
    "    SystemMessage(content=\"you're a good assistant\"),\n",
    "    HumanMessage(content=\"hi! I'm bob\"),\n",
    "    AIMessage(content=\"hi!\"),\n",
    "    HumanMessage(content=\"I like vanilla ice cream\"),\n",
    "    AIMessage(content=\"nice\"),\n",
    "    HumanMessage(content=\"whats 2 + 2\"),\n",
    "    AIMessage(content=\"4\"),\n",
    "    HumanMessage(content=\"thanks\"),\n",
    "    AIMessage(content=\"no problem!\"),\n",
    "    HumanMessage(content=\"having fun?\"),\n",
    "    AIMessage(content=\"yes!\"),\n",
    "]\n",
    "trimmer.invoke(messages)"
   ]
  },
  {
   "cell_type": "code",
   "execution_count": 143,
   "id": "ca5d4886",
   "metadata": {},
   "outputs": [
    {
     "data": {
      "text/plain": [
       "[SystemMessage(content=\"you're a good assistant\", additional_kwargs={}, response_metadata={}),\n",
       " HumanMessage(content='I like vanilla ice cream', additional_kwargs={}, response_metadata={}),\n",
       " AIMessage(content='nice', additional_kwargs={}, response_metadata={}),\n",
       " HumanMessage(content='whats 2 + 2', additional_kwargs={}, response_metadata={}),\n",
       " AIMessage(content='4', additional_kwargs={}, response_metadata={}),\n",
       " HumanMessage(content='thanks', additional_kwargs={}, response_metadata={}),\n",
       " AIMessage(content='no problem!', additional_kwargs={}, response_metadata={}),\n",
       " HumanMessage(content='having fun?', additional_kwargs={}, response_metadata={}),\n",
       " AIMessage(content='yes!', additional_kwargs={}, response_metadata={})]"
      ]
     },
     "execution_count": 143,
     "metadata": {},
     "output_type": "execute_result"
    }
   ],
   "source": [
    "trimmer = trim_messages(\n",
    "    max_tokens = 45, \n",
    "    strategy = 'last', \n",
    "    token_counter = model,\n",
    "    include_system = True,\n",
    "    allow_partial = False,\n",
    "    start_on = \"human\"\n",
    "    )\n",
    "messages = [\n",
    "    SystemMessage(content=\"you're a good assistant\"),\n",
    "    HumanMessage(content=\"hi! I'm bob\"),\n",
    "    AIMessage(content=\"hi!\"),\n",
    "    HumanMessage(content=\"I like vanilla ice cream\"),\n",
    "    AIMessage(content=\"nice\"),\n",
    "    HumanMessage(content=\"whats 2 + 2\"),\n",
    "    AIMessage(content=\"4\"),\n",
    "    HumanMessage(content=\"thanks\"),\n",
    "    AIMessage(content=\"no problem!\"),\n",
    "    HumanMessage(content=\"having fun?\"),\n",
    "    AIMessage(content=\"yes!\"),\n",
    "]\n",
    "trimmer.invoke(messages)"
   ]
  },
  {
   "cell_type": "code",
   "execution_count": 144,
   "id": "e13bcd04",
   "metadata": {},
   "outputs": [],
   "source": [
    "from operator import itemgetter\n",
    "from langchain_core.runnables import RunnablePassthrough"
   ]
  },
  {
   "cell_type": "code",
   "execution_count": null,
   "id": "be6d9df8",
   "metadata": {},
   "outputs": [],
   "source": [
    "chain = RunnablePassthrough.assign(messages = itemgetter('messages')|trimmer| prompt|model)\n",
    "chain\n",
    "chain=(\n",
    "    RunnablePassthrough.assign(messages=itemgetter(\"messages\")|trimmer)\n",
    "    | prompt\n",
    "    | model\n",
    "    \n",
    ")"
   ]
  },
  {
   "cell_type": "code",
   "execution_count": 153,
   "id": "4eabb6bf",
   "metadata": {},
   "outputs": [
    {
     "data": {
      "text/plain": [
       "\"As an AI, I don't have access to your personal information, including your favorite ice cream flavor!  \\n\\nWhat's your favorite flavor? 😊🍦\\n\""
      ]
     },
     "execution_count": 153,
     "metadata": {},
     "output_type": "execute_result"
    }
   ],
   "source": [
    "response=chain.invoke(\n",
    "    {\n",
    "    \"messages\":messages + [HumanMessage(content=\"What ice cream do i like\")],\n",
    "    \"language\":\"English\"\n",
    "    }\n",
    "\n",
    ")\n",
    "response.content"
   ]
  },
  {
   "cell_type": "code",
   "execution_count": null,
   "id": "2c68abc7",
   "metadata": {},
   "outputs": [],
   "source": [
    "chain.invoke()"
   ]
  }
 ],
 "metadata": {
  "kernelspec": {
   "display_name": "Python 3",
   "language": "python",
   "name": "python3"
  },
  "language_info": {
   "codemirror_mode": {
    "name": "ipython",
    "version": 3
   },
   "file_extension": ".py",
   "mimetype": "text/x-python",
   "name": "python",
   "nbconvert_exporter": "python",
   "pygments_lexer": "ipython3",
   "version": "3.12.0"
  }
 },
 "nbformat": 4,
 "nbformat_minor": 5
}
