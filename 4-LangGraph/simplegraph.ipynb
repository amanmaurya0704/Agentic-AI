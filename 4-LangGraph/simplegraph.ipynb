{
 "cells": [
  {
   "cell_type": "code",
   "execution_count": 1,
   "id": "050fb0f9",
   "metadata": {},
   "outputs": [],
   "source": [
    "from typing_extensions import TypedDict\n",
    "class State(TypedDict):\n",
    "    graph_state: str"
   ]
  },
  {
   "cell_type": "code",
   "execution_count": 2,
   "id": "96eff553",
   "metadata": {},
   "outputs": [],
   "source": [
    "def first_node(state):\n",
    "    print(\"My first node is called\")\n",
    "    return {\"graph_state\": state[\"graph_state\"] + \"I am playing\"}\n",
    "\n",
    "def second_node(state):\n",
    "    print(\"My second node is called\")\n",
    "    return {\"graph_state\": state[\"graph_state\"] + \"Cricket\"}\n",
    "\n",
    "def third_node(state):\n",
    "    print(\"My second node is called\")\n",
    "    return {\"graph_state\": state[\"graph_state\"] + \"Badminton\"}\n",
    "\n"
   ]
  },
  {
   "cell_type": "code",
   "execution_count": 3,
   "id": "062b3db9",
   "metadata": {},
   "outputs": [],
   "source": [
    "import random\n",
    "from typing import Literal\n",
    "def decide_play(state)->Literal[\"second_node\", \"third_node\"]:\n",
    "    graph_state = state[\"graph_state\"]\n",
    "    if random.random() < 0.5:\n",
    "        return [\"second_node\"]\n",
    "    else:\n",
    "        return [\"third_node\"]  "
   ]
  },
  {
   "cell_type": "code",
   "execution_count": 4,
   "id": "a77d1904",
   "metadata": {},
   "outputs": [
    {
     "data": {
      "image/png": "[encoded data removed]",
      "text/plain": [
       "<IPython.core.display.Image object>"
      ]
     },
     "metadata": {},
     "output_type": "display_data"
    }
   ],
   "source": [
    "## graph\n",
    "from IPython.display import Image, display\n",
    "from langgraph.graph import StateGraph, START,END\n",
    "\n",
    "builder  = StateGraph(State)\n",
    "\n",
    "builder.add_node(\"first_node\", first_node)\n",
    "builder.add_node(\"second_node\", second_node)\n",
    "builder.add_node(\"third_node\", third_node)\n",
    "\n",
    "builder.add_edge(START, \"first_node\")\n",
    "builder.add_conditional_edges(\"first_node\", decide_play)\n",
    "builder.add_edge(\"second_node\", END)\n",
    "builder.add_edge(\"third_node\", END)\n",
    "\n",
    "graph = builder.compile()\n",
    "\n",
    "display(Image(graph.get_graph().draw_mermaid_png()))"
   ]
  },
  {
   "cell_type": "code",
   "execution_count": 5,
   "id": "89e823c7",
   "metadata": {},
   "outputs": [
    {
     "name": "stdout",
     "output_type": "stream",
     "text": [
      "My first node is called\n",
      "My second node is called\n"
     ]
    },
    {
     "data": {
      "text/plain": [
       "{'graph_state': 'Hi, my name is AmanI am playingCricket'}"
      ]
     },
     "execution_count": 5,
     "metadata": {},
     "output_type": "execute_result"
    }
   ],
   "source": [
    "graph.invoke({\"graph_state\":\"Hi, my name is Aman\"})\n"
   ]
  },
  {
   "cell_type": "markdown",
   "id": "fff91f18",
   "metadata": {},
   "source": [
    "### Chatbot"
   ]
  },
  {
   "cell_type": "code",
   "execution_count": 6,
   "id": "1014860a",
   "metadata": {},
   "outputs": [],
   "source": [
    "from typing import Annotated\n",
    "from typing_extensions import TypedDict\n",
    "\n",
    "from langgraph.graph import StateGraph, START, END\n",
    "from langgraph.graph.message import add_messages"
   ]
  },
  {
   "cell_type": "code",
   "execution_count": 7,
   "id": "332b87c3",
   "metadata": {},
   "outputs": [],
   "source": [
    "class State(TypedDict):\n",
    "    messages: Annotated[list,add_messages]"
   ]
  },
  {
   "cell_type": "code",
   "execution_count": 8,
   "id": "dc86951b",
   "metadata": {},
   "outputs": [],
   "source": [
    "graph_builder=StateGraph(State)"
   ]
  },
  {
   "cell_type": "code",
   "execution_count": 9,
   "id": "6ba379c4",
   "metadata": {},
   "outputs": [],
   "source": [
    "import os\n",
    "from dotenv import load_dotenv\n",
    "\n",
    "load_dotenv()\n",
    "os.environ[\"GROQ_API_KEY\"]=os.getenv(\"GROQ_API_KEY\")"
   ]
  },
  {
   "cell_type": "code",
   "execution_count": 10,
   "id": "54e73686",
   "metadata": {},
   "outputs": [
    {
     "data": {
      "text/plain": [
       "ChatGroq(client=<groq.resources.chat.completions.Completions object at 0x0000016604AED400>, async_client=<groq.resources.chat.completions.AsyncCompletions object at 0x0000016604AEE4E0>, model_name='gemma2-9b-it', model_kwargs={}, groq_api_key=SecretStr('**********'))"
      ]
     },
     "execution_count": 10,
     "metadata": {},
     "output_type": "execute_result"
    }
   ],
   "source": [
    "from langchain_groq import ChatGroq\n",
    "llm=ChatGroq(model=\"gemma2-9b-it\")\n",
    "llm"
   ]
  },
  {
   "cell_type": "code",
   "execution_count": 11,
   "id": "ce26da44",
   "metadata": {},
   "outputs": [],
   "source": [
    "def chatbot(state:State):\n",
    "    return {\"messages\":[llm.invoke(state[\"messages\"])]}"
   ]
  },
  {
   "cell_type": "code",
   "execution_count": 12,
   "id": "4f23ad8f",
   "metadata": {},
   "outputs": [],
   "source": [
    "graph_builder.add_node(\"chatbot\",chatbot)\n",
    "graph_builder.add_edge(START, \"chatbot\")\n",
    "graph_builder.add_edge(\"chatbot\", END)\n",
    "graph = graph_builder.compile()"
   ]
  },
  {
   "cell_type": "code",
   "execution_count": 13,
   "id": "93e68ee3",
   "metadata": {},
   "outputs": [
    {
     "data": {
      "image/png": "[encoded data removed]",
      "text/plain": [
       "<IPython.core.display.Image object>"
      ]
     },
     "metadata": {},
     "output_type": "display_data"
    }
   ],
   "source": [
    "from IPython.display import Image, display\n",
    "display(Image(graph.get_graph().draw_mermaid_png()))"
   ]
  },
  {
   "cell_type": "code",
   "execution_count": 14,
   "id": "ff2a9e3d",
   "metadata": {},
   "outputs": [],
   "source": [
    "def stream_graph_updates(user_input: str):\n",
    "    for event in graph.stream({\"messages\": [{\"role\": \"user\", \"content\": user_input}]}):\n",
    "        for value in event.values():\n",
    "            print(\"Assistant:\", value[\"messages\"][-1].content)"
   ]
  },
  {
   "cell_type": "code",
   "execution_count": 15,
   "id": "45af0e8c",
   "metadata": {},
   "outputs": [
    {
     "name": "stdout",
     "output_type": "stream",
     "text": [
      "Assistant: Hi! 👋\n",
      "\n",
      "What can I do for you today? 😊\n",
      "\n",
      "Assistant: The India-Pakistan wars are a complex and tragic part of the history of both nations. There have been four major wars and numerous smaller conflicts between them since their partition in 1947.  \n",
      "\n",
      "Here's a brief overview of the major wars:\n",
      "\n",
      "**1. First Kashmir War (1947-1948):**\n",
      "\n",
      "* **Cause:** Following India's independence, princely states were given the choice to join India or Pakistan. Jammu and Kashmir, a predominantly Muslim state, was ruled by a Hindu Maharaja who initially favored accession to India. However, tribal raiders backed by Pakistan invaded the state, leading to war.\n",
      "* **Outcome:** A UN-mandated ceasefire line was established, dividing Kashmir between India and Pakistan. The issue of Kashmir's final status remains unresolved to this day.\n",
      "\n",
      "**2. Second Kashmir War (1965):**\n",
      "\n",
      "* **Cause:** Pakistan launched a surprise attack on Indian positions in Kashmir, aiming to capture more territory.\n",
      "* **Outcome:** The war ended in a stalemate, with neither side gaining significant territory. A UN-brokered ceasefire was agreed upon, but tensions remained high.\n",
      "\n",
      "**3. Indo-Pakistani War of 1971:**\n",
      "\n",
      "* **Cause:** The Bangladesh Liberation War, where East Pakistanis fought for independence from West Pakistan, led to India intervening on the side of the rebels.\n",
      "* **Outcome:** India emerged victorious, leading to the creation of Bangladesh. Pakistan surrendered its eastern wing, and India captured significant territory in West Pakistan.\n",
      "\n",
      "**4. Kargil War (1999):**\n",
      "\n",
      "* **Cause:** Pakistani troops infiltrated into Indian-controlled Kashmir and occupied high ground, triggering a conflict.\n",
      "* **Outcome:** India launched a successful counter-offensive, pushing back Pakistani forces. Pakistan eventually withdrew its troops.\n",
      "\n",
      "**Ongoing Tensions:**\n",
      "\n",
      "Even though there have been periods of relative peace, India and Pakistan remain locked in a bitter rivalry. \n",
      "\n",
      "* **Kashmir:** The unresolved status of Kashmir continues to be a major flashpoint.\n",
      "* **Terrorism:** Both countries accuse each other of supporting terrorist groups operating within their borders.\n",
      "* **Nuclear Weapons:** Both India and Pakistan possess nuclear weapons, raising the stakes of any potential conflict.\n",
      "\n",
      "\n",
      "The India-Pakistan conflict is a deeply complex and tragic issue with no easy solutions. It has had a devastating impact on the lives of millions of people on both sides of the border. \n",
      "\n",
      "Goodbye!\n"
     ]
    }
   ],
   "source": [
    "while True:\n",
    "    try:\n",
    "        user_input = input(\"User: \")\n",
    "        if user_input.lower() in [\"quit\", \"exit\", \"q\"]:\n",
    "            print(\"Goodbye!\")\n",
    "            break\n",
    "\n",
    "        stream_graph_updates(user_input)\n",
    "    except:\n",
    "        # fallback if input() is not available\n",
    "        user_input = \"What do you know about LangGraph?\"\n",
    "        print(\"User: \" + user_input)\n",
    "        stream_graph_updates(user_input)\n",
    "        break"
   ]
  },
  {
   "cell_type": "code",
   "execution_count": null,
   "id": "fbf9974a",
   "metadata": {},
   "outputs": [],
   "source": []
  }
 ],
 "metadata": {
  "kernelspec": {
   "display_name": "Python 3",
   "language": "python",
   "name": "python3"
  },
  "language_info": {
   "codemirror_mode": {
    "name": "ipython",
    "version": 3
   },
   "file_extension": ".py",
   "mimetype": "text/x-python",
   "name": "python",
   "nbconvert_exporter": "python",
   "pygments_lexer": "ipython3",
   "version": "3.12.0"
  }
 },
 "nbformat": 4,
 "nbformat_minor": 5
}
